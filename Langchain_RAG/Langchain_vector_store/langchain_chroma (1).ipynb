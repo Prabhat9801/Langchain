{
  "cells": [
    {
      "cell_type": "code",
      "execution_count": 1,
      "metadata": {
        "id": "1YGuU6npaIFx"
      },
      "outputs": [
        {
          "name": "stderr",
          "output_type": "stream",
          "text": [
            "c:\\Users\\prabh\\OneDrive\\Desktop\\Langchain\\venv\\lib\\site-packages\\tqdm\\auto.py:21: TqdmWarning: IProgress not found. Please update jupyter and ipywidgets. See https://ipywidgets.readthedocs.io/en/stable/user_install.html\n",
            "  from .autonotebook import tqdm as notebook_tqdm\n"
          ]
        }
      ],
      "source": [
        "from langchain_google_genai import GoogleGenerativeAIEmbeddings\n",
        "from langchain.vectorstores import Chroma\n",
        "from dotenv import load_dotenv"
      ]
    },
    {
      "cell_type": "code",
      "execution_count": 2,
      "metadata": {
        "id": "FpqDxoo-28TT"
      },
      "outputs": [],
      "source": [
        "from langchain.schema import Document\n",
        "\n",
        "load_dotenv()\n",
        "# Create LangChain documents for IPL players\n",
        "\n",
        "doc1 = Document(\n",
        "        page_content=\"Virat Kohli is one of the most successful and consistent batsmen in IPL history. Known for his aggressive batting style and fitness, he has led the Royal Challengers Bangalore in multiple seasons.\",\n",
        "        metadata={\"team\": \"Royal Challengers Bangalore\"}\n",
        "    )\n",
        "doc2 = Document(\n",
        "        page_content=\"Rohit Sharma is the most successful captain in IPL history, leading Mumbai Indians to five titles. He's known for his calm demeanor and ability to play big innings under pressure.\",\n",
        "        metadata={\"team\": \"Mumbai Indians\"}\n",
        "    )\n",
        "doc3 = Document(\n",
        "        page_content=\"MS Dhoni, famously known as Captain Cool, has led Chennai Super Kings to multiple IPL titles. His finishing skills, wicketkeeping, and leadership are legendary.\",\n",
        "        metadata={\"team\": \"Chennai Super Kings\"}\n",
        "    )\n",
        "doc4 = Document(\n",
        "        page_content=\"Jasprit Bumrah is considered one of the best fast bowlers in T20 cricket. Playing for Mumbai Indians, he is known for his yorkers and death-over expertise.\",\n",
        "        metadata={\"team\": \"Mumbai Indians\"}\n",
        "    )\n",
        "doc5 = Document(\n",
        "        page_content=\"Ravindra Jadeja is a dynamic all-rounder who contributes with both bat and ball. Representing Chennai Super Kings, his quick fielding and match-winning performances make him a key player.\",\n",
        "        metadata={\"team\": \"Chennai Super Kings\"}\n",
        "    )\n"
      ]
    },
    {
      "cell_type": "code",
      "execution_count": 3,
      "metadata": {
        "id": "8gHb9o9Y3lfL"
      },
      "outputs": [],
      "source": [
        "docs = [doc1, doc2, doc3, doc4, doc5]"
      ]
    },
    {
      "cell_type": "code",
      "execution_count": 4,
      "metadata": {
        "id": "rIKW6J91c2Gw"
      },
      "outputs": [
        {
          "name": "stderr",
          "output_type": "stream",
          "text": [
            "C:\\Users\\prabh\\AppData\\Local\\Temp\\ipykernel_3540\\3645425742.py:5: LangChainDeprecationWarning: The class `Chroma` was deprecated in LangChain 0.2.9 and will be removed in 1.0. An updated version of the class exists in the :class:`~langchain-chroma package and should be used instead. To use it run `pip install -U :class:`~langchain-chroma` and import as `from :class:`~langchain_chroma import Chroma``.\n",
            "  vector_store = Chroma(\n"
          ]
        }
      ],
      "source": [
        "import os\n",
        "from langchain_google_genai import GoogleGenerativeAIEmbeddings\n",
        "from langchain.vectorstores import Chroma\n",
        "\n",
        "vector_store = Chroma(\n",
        "    embedding_function=GoogleGenerativeAIEmbeddings(model=\"models/embedding-001\",dimensions=32),\n",
        "    persist_directory='my_chroma_db',\n",
        "    collection_name='sample'\n",
        ")"
      ]
    },
    {
      "cell_type": "code",
      "execution_count": 5,
      "metadata": {
        "colab": {
          "base_uri": "https://localhost:8080/"
        },
        "id": "HY1WWRs3gLua",
        "outputId": "6d37b07a-41a8-4e4b-f04e-369f6bdec207"
      },
      "outputs": [
        {
          "data": {
            "text/plain": [
              "['5b2683ec-45a0-40fe-b056-0d5b33ede732',\n",
              " '1f9475c6-2093-49d8-b2ca-d33a25dfbc07',\n",
              " '1aa28531-d979-4b7c-9f79-5529c941c22c',\n",
              " 'fee7cd34-810a-46fa-90ae-b0dc87081158',\n",
              " '8bc7965e-e8ea-4b1b-a69b-9b0bb6763ad1']"
            ]
          },
          "execution_count": 5,
          "metadata": {},
          "output_type": "execute_result"
        }
      ],
      "source": [
        "# add documents\n",
        "vector_store.add_documents(docs)"
      ]
    },
    {
      "cell_type": "code",
      "execution_count": 6,
      "metadata": {
        "colab": {
          "base_uri": "https://localhost:8080/"
        },
        "id": "nG7XjDXwg0JZ",
        "outputId": "f7776d50-56cf-470f-960c-ffcdcc0446ef"
      },
      "outputs": [
        {
          "data": {
            "text/plain": [
              "{'ids': ['4fed7118-cf62-4343-ac48-b753bf4acdb5',\n",
              "  'dbc6223d-57d9-4795-abf8-f562d0e0384f',\n",
              "  '396bc5ab-b35d-4384-8f61-120b0031c8e1',\n",
              "  '64973916-ff37-4251-abfd-9db581d91059',\n",
              "  '93a1b2c6-7acd-46ea-a370-29422ee1dcb1',\n",
              "  '5b2683ec-45a0-40fe-b056-0d5b33ede732',\n",
              "  '1f9475c6-2093-49d8-b2ca-d33a25dfbc07',\n",
              "  '1aa28531-d979-4b7c-9f79-5529c941c22c',\n",
              "  'fee7cd34-810a-46fa-90ae-b0dc87081158',\n",
              "  '8bc7965e-e8ea-4b1b-a69b-9b0bb6763ad1'],\n",
              " 'embeddings': array([[ 1.35614481e-02, -7.62679800e-03, -2.51727290e-02, ...,\n",
              "          1.35761239e-02,  3.51136659e-05, -7.35754846e-03],\n",
              "        [ 3.18830460e-02, -3.36795598e-02, -4.39120680e-02, ...,\n",
              "          1.08157219e-02, -1.05898809e-02, -1.52005616e-03],\n",
              "        [ 1.58164389e-02,  3.38992523e-03, -2.23509353e-02, ...,\n",
              "          1.95286470e-03, -7.18898326e-02, -8.88233818e-03],\n",
              "        ...,\n",
              "        [ 1.58164389e-02,  3.38992523e-03, -2.23509353e-02, ...,\n",
              "          1.95286470e-03, -7.18898326e-02, -8.88233818e-03],\n",
              "        [ 1.01624681e-02, -5.16264960e-02, -2.89599448e-02, ...,\n",
              "          3.29840817e-02, -2.09922232e-02,  1.78275332e-02],\n",
              "        [-8.94617348e-04,  1.97164640e-02, -9.64438636e-03, ...,\n",
              "          2.34126463e-03, -1.33365402e-02, -1.25717660e-02]],\n",
              "       shape=(10, 768)),\n",
              " 'documents': ['Virat Kohli is one of the most successful and consistent batsmen in IPL history. Known for his aggressive batting style and fitness, he has led the Royal Challengers Bangalore in multiple seasons.',\n",
              "  \"Rohit Sharma is the most successful captain in IPL history, leading Mumbai Indians to five titles. He's known for his calm demeanor and ability to play big innings under pressure.\",\n",
              "  'MS Dhoni, famously known as Captain Cool, has led Chennai Super Kings to multiple IPL titles. His finishing skills, wicketkeeping, and leadership are legendary.',\n",
              "  'Jasprit Bumrah is considered one of the best fast bowlers in T20 cricket. Playing for Mumbai Indians, he is known for his yorkers and death-over expertise.',\n",
              "  'Ravindra Jadeja is a dynamic all-rounder who contributes with both bat and ball. Representing Chennai Super Kings, his quick fielding and match-winning performances make him a key player.',\n",
              "  'Virat Kohli is one of the most successful and consistent batsmen in IPL history. Known for his aggressive batting style and fitness, he has led the Royal Challengers Bangalore in multiple seasons.',\n",
              "  \"Rohit Sharma is the most successful captain in IPL history, leading Mumbai Indians to five titles. He's known for his calm demeanor and ability to play big innings under pressure.\",\n",
              "  'MS Dhoni, famously known as Captain Cool, has led Chennai Super Kings to multiple IPL titles. His finishing skills, wicketkeeping, and leadership are legendary.',\n",
              "  'Jasprit Bumrah is considered one of the best fast bowlers in T20 cricket. Playing for Mumbai Indians, he is known for his yorkers and death-over expertise.',\n",
              "  'Ravindra Jadeja is a dynamic all-rounder who contributes with both bat and ball. Representing Chennai Super Kings, his quick fielding and match-winning performances make him a key player.'],\n",
              " 'uris': None,\n",
              " 'included': ['embeddings', 'documents', 'metadatas'],\n",
              " 'data': None,\n",
              " 'metadatas': [{'team': 'Royal Challengers Bangalore'},\n",
              "  {'team': 'Mumbai Indians'},\n",
              "  {'team': 'Chennai Super Kings'},\n",
              "  {'team': 'Mumbai Indians'},\n",
              "  {'team': 'Chennai Super Kings'},\n",
              "  {'team': 'Royal Challengers Bangalore'},\n",
              "  {'team': 'Mumbai Indians'},\n",
              "  {'team': 'Chennai Super Kings'},\n",
              "  {'team': 'Mumbai Indians'},\n",
              "  {'team': 'Chennai Super Kings'}]}"
            ]
          },
          "execution_count": 6,
          "metadata": {},
          "output_type": "execute_result"
        }
      ],
      "source": [
        "# view documents\n",
        "vector_store.get(include=['embeddings','documents', 'metadatas'])"
      ]
    },
    {
      "cell_type": "code",
      "execution_count": 7,
      "metadata": {
        "colab": {
          "base_uri": "https://localhost:8080/"
        },
        "id": "LU-W9_9Jg3l3",
        "outputId": "7b8f5b6d-5e62-42b2-f1b1-0ead95c18758"
      },
      "outputs": [
        {
          "data": {
            "text/plain": [
              "[Document(metadata={'team': 'Mumbai Indians'}, page_content='Jasprit Bumrah is considered one of the best fast bowlers in T20 cricket. Playing for Mumbai Indians, he is known for his yorkers and death-over expertise.'),\n",
              " Document(metadata={'team': 'Mumbai Indians'}, page_content='Jasprit Bumrah is considered one of the best fast bowlers in T20 cricket. Playing for Mumbai Indians, he is known for his yorkers and death-over expertise.')]"
            ]
          },
          "execution_count": 7,
          "metadata": {},
          "output_type": "execute_result"
        }
      ],
      "source": [
        "# search documents\n",
        "vector_store.similarity_search(\n",
        "    query='Who among these are a bowler?',\n",
        "    k=2\n",
        ")"
      ]
    },
    {
      "cell_type": "code",
      "execution_count": 8,
      "metadata": {
        "colab": {
          "base_uri": "https://localhost:8080/"
        },
        "id": "fRVVrXeag_MI",
        "outputId": "2198fcea-f194-482a-90a8-42e1499e7cbc"
      },
      "outputs": [
        {
          "data": {
            "text/plain": [
              "[(Document(metadata={'team': 'Mumbai Indians'}, page_content='Jasprit Bumrah is considered one of the best fast bowlers in T20 cricket. Playing for Mumbai Indians, he is known for his yorkers and death-over expertise.'),\n",
              "  0.770696222782135),\n",
              " (Document(metadata={'team': 'Mumbai Indians'}, page_content='Jasprit Bumrah is considered one of the best fast bowlers in T20 cricket. Playing for Mumbai Indians, he is known for his yorkers and death-over expertise.'),\n",
              "  0.770696222782135)]"
            ]
          },
          "execution_count": 8,
          "metadata": {},
          "output_type": "execute_result"
        }
      ],
      "source": [
        "# search with similarity score\n",
        "vector_store.similarity_search_with_score(\n",
        "    query='Who among these are a bowler?',\n",
        "    k=2\n",
        ")"
      ]
    },
    {
      "cell_type": "code",
      "execution_count": 9,
      "metadata": {
        "colab": {
          "base_uri": "https://localhost:8080/"
        },
        "id": "NS6pINjhjldB",
        "outputId": "3704bf1e-f112-47ae-a016-b6a659f6e444"
      },
      "outputs": [
        {
          "data": {
            "text/plain": [
              "[(Document(metadata={'team': 'Chennai Super Kings'}, page_content='Ravindra Jadeja is a dynamic all-rounder who contributes with both bat and ball. Representing Chennai Super Kings, his quick fielding and match-winning performances make him a key player.'),\n",
              "  0.871087908744812),\n",
              " (Document(metadata={'team': 'Chennai Super Kings'}, page_content='Ravindra Jadeja is a dynamic all-rounder who contributes with both bat and ball. Representing Chennai Super Kings, his quick fielding and match-winning performances make him a key player.'),\n",
              "  0.871087908744812),\n",
              " (Document(metadata={'team': 'Chennai Super Kings'}, page_content='MS Dhoni, famously known as Captain Cool, has led Chennai Super Kings to multiple IPL titles. His finishing skills, wicketkeeping, and leadership are legendary.'),\n",
              "  0.8778100609779358),\n",
              " (Document(metadata={'team': 'Chennai Super Kings'}, page_content='MS Dhoni, famously known as Captain Cool, has led Chennai Super Kings to multiple IPL titles. His finishing skills, wicketkeeping, and leadership are legendary.'),\n",
              "  0.8778100609779358)]"
            ]
          },
          "execution_count": 9,
          "metadata": {},
          "output_type": "execute_result"
        }
      ],
      "source": [
        "# meta-data filtering\n",
        "vector_store.similarity_search_with_score(\n",
        "    query=\"\",\n",
        "    filter={\"team\": \"Chennai Super Kings\"}\n",
        ")"
      ]
    },
    {
      "cell_type": "code",
      "execution_count": 10,
      "metadata": {
        "id": "5EXWk0T26qat"
      },
      "outputs": [],
      "source": [
        "# update documents\n",
        "updated_doc1 = Document(\n",
        "    page_content=\"Virat Kohli, the former captain of Royal Challengers Bangalore (RCB), is renowned for his aggressive leadership and consistent batting performances. He holds the record for the most runs in IPL history, including multiple centuries in a single season. Despite RCB not winning an IPL title under his captaincy, Kohli's passion and fitness set a benchmark for the league. His ability to chase targets and anchor innings has made him one of the most dependable players in T20 cricket.\",\n",
        "    metadata={\"team\": \"Royal Challengers Bangalore\"}\n",
        ")\n",
        "\n",
        "vector_store.update_document(document_id='09a39dc6-3ba6-4ea7-927e-fdda591da5e4', document=updated_doc1)\n"
      ]
    },
    {
      "cell_type": "code",
      "execution_count": 11,
      "metadata": {
        "colab": {
          "base_uri": "https://localhost:8080/"
        },
        "id": "vkB9Yd_O7oEl",
        "outputId": "c46d51ee-572e-4dfe-fab2-4caed518ca84"
      },
      "outputs": [
        {
          "data": {
            "text/plain": [
              "{'ids': ['4fed7118-cf62-4343-ac48-b753bf4acdb5',\n",
              "  'dbc6223d-57d9-4795-abf8-f562d0e0384f',\n",
              "  '396bc5ab-b35d-4384-8f61-120b0031c8e1',\n",
              "  '64973916-ff37-4251-abfd-9db581d91059',\n",
              "  '93a1b2c6-7acd-46ea-a370-29422ee1dcb1',\n",
              "  '5b2683ec-45a0-40fe-b056-0d5b33ede732',\n",
              "  '1f9475c6-2093-49d8-b2ca-d33a25dfbc07',\n",
              "  '1aa28531-d979-4b7c-9f79-5529c941c22c',\n",
              "  'fee7cd34-810a-46fa-90ae-b0dc87081158',\n",
              "  '8bc7965e-e8ea-4b1b-a69b-9b0bb6763ad1'],\n",
              " 'embeddings': array([[ 1.35614481e-02, -7.62679800e-03, -2.51727290e-02, ...,\n",
              "          1.35761239e-02,  3.51136659e-05, -7.35754846e-03],\n",
              "        [ 3.18830460e-02, -3.36795598e-02, -4.39120680e-02, ...,\n",
              "          1.08157219e-02, -1.05898809e-02, -1.52005616e-03],\n",
              "        [ 1.58164389e-02,  3.38992523e-03, -2.23509353e-02, ...,\n",
              "          1.95286470e-03, -7.18898326e-02, -8.88233818e-03],\n",
              "        ...,\n",
              "        [ 1.58164389e-02,  3.38992523e-03, -2.23509353e-02, ...,\n",
              "          1.95286470e-03, -7.18898326e-02, -8.88233818e-03],\n",
              "        [ 1.01624681e-02, -5.16264960e-02, -2.89599448e-02, ...,\n",
              "          3.29840817e-02, -2.09922232e-02,  1.78275332e-02],\n",
              "        [-8.94617348e-04,  1.97164640e-02, -9.64438636e-03, ...,\n",
              "          2.34126463e-03, -1.33365402e-02, -1.25717660e-02]],\n",
              "       shape=(10, 768)),\n",
              " 'documents': ['Virat Kohli is one of the most successful and consistent batsmen in IPL history. Known for his aggressive batting style and fitness, he has led the Royal Challengers Bangalore in multiple seasons.',\n",
              "  \"Rohit Sharma is the most successful captain in IPL history, leading Mumbai Indians to five titles. He's known for his calm demeanor and ability to play big innings under pressure.\",\n",
              "  'MS Dhoni, famously known as Captain Cool, has led Chennai Super Kings to multiple IPL titles. His finishing skills, wicketkeeping, and leadership are legendary.',\n",
              "  'Jasprit Bumrah is considered one of the best fast bowlers in T20 cricket. Playing for Mumbai Indians, he is known for his yorkers and death-over expertise.',\n",
              "  'Ravindra Jadeja is a dynamic all-rounder who contributes with both bat and ball. Representing Chennai Super Kings, his quick fielding and match-winning performances make him a key player.',\n",
              "  'Virat Kohli is one of the most successful and consistent batsmen in IPL history. Known for his aggressive batting style and fitness, he has led the Royal Challengers Bangalore in multiple seasons.',\n",
              "  \"Rohit Sharma is the most successful captain in IPL history, leading Mumbai Indians to five titles. He's known for his calm demeanor and ability to play big innings under pressure.\",\n",
              "  'MS Dhoni, famously known as Captain Cool, has led Chennai Super Kings to multiple IPL titles. His finishing skills, wicketkeeping, and leadership are legendary.',\n",
              "  'Jasprit Bumrah is considered one of the best fast bowlers in T20 cricket. Playing for Mumbai Indians, he is known for his yorkers and death-over expertise.',\n",
              "  'Ravindra Jadeja is a dynamic all-rounder who contributes with both bat and ball. Representing Chennai Super Kings, his quick fielding and match-winning performances make him a key player.'],\n",
              " 'uris': None,\n",
              " 'included': ['embeddings', 'documents', 'metadatas'],\n",
              " 'data': None,\n",
              " 'metadatas': [{'team': 'Royal Challengers Bangalore'},\n",
              "  {'team': 'Mumbai Indians'},\n",
              "  {'team': 'Chennai Super Kings'},\n",
              "  {'team': 'Mumbai Indians'},\n",
              "  {'team': 'Chennai Super Kings'},\n",
              "  {'team': 'Royal Challengers Bangalore'},\n",
              "  {'team': 'Mumbai Indians'},\n",
              "  {'team': 'Chennai Super Kings'},\n",
              "  {'team': 'Mumbai Indians'},\n",
              "  {'team': 'Chennai Super Kings'}]}"
            ]
          },
          "execution_count": 11,
          "metadata": {},
          "output_type": "execute_result"
        }
      ],
      "source": [
        "# view documents\n",
        "vector_store.get(include=['embeddings','documents', 'metadatas'])"
      ]
    },
    {
      "cell_type": "code",
      "execution_count": 12,
      "metadata": {
        "id": "JfP7Gkgc7r4A"
      },
      "outputs": [],
      "source": [
        "# delete document\n",
        "vector_store.delete(ids=['09a39dc6-3ba6-4ea7-927e-fdda591da5e4'])"
      ]
    },
    {
      "cell_type": "code",
      "execution_count": 13,
      "metadata": {
        "colab": {
          "base_uri": "https://localhost:8080/"
        },
        "id": "Z8kVJ9UX76tG",
        "outputId": "192d62ce-6847-4ff5-b968-b734df57ac13"
      },
      "outputs": [
        {
          "data": {
            "text/plain": [
              "{'ids': ['4fed7118-cf62-4343-ac48-b753bf4acdb5',\n",
              "  'dbc6223d-57d9-4795-abf8-f562d0e0384f',\n",
              "  '396bc5ab-b35d-4384-8f61-120b0031c8e1',\n",
              "  '64973916-ff37-4251-abfd-9db581d91059',\n",
              "  '93a1b2c6-7acd-46ea-a370-29422ee1dcb1',\n",
              "  '5b2683ec-45a0-40fe-b056-0d5b33ede732',\n",
              "  '1f9475c6-2093-49d8-b2ca-d33a25dfbc07',\n",
              "  '1aa28531-d979-4b7c-9f79-5529c941c22c',\n",
              "  'fee7cd34-810a-46fa-90ae-b0dc87081158',\n",
              "  '8bc7965e-e8ea-4b1b-a69b-9b0bb6763ad1'],\n",
              " 'embeddings': array([[ 1.35614481e-02, -7.62679800e-03, -2.51727290e-02, ...,\n",
              "          1.35761239e-02,  3.51136659e-05, -7.35754846e-03],\n",
              "        [ 3.18830460e-02, -3.36795598e-02, -4.39120680e-02, ...,\n",
              "          1.08157219e-02, -1.05898809e-02, -1.52005616e-03],\n",
              "        [ 1.58164389e-02,  3.38992523e-03, -2.23509353e-02, ...,\n",
              "          1.95286470e-03, -7.18898326e-02, -8.88233818e-03],\n",
              "        ...,\n",
              "        [ 1.58164389e-02,  3.38992523e-03, -2.23509353e-02, ...,\n",
              "          1.95286470e-03, -7.18898326e-02, -8.88233818e-03],\n",
              "        [ 1.01624681e-02, -5.16264960e-02, -2.89599448e-02, ...,\n",
              "          3.29840817e-02, -2.09922232e-02,  1.78275332e-02],\n",
              "        [-8.94617348e-04,  1.97164640e-02, -9.64438636e-03, ...,\n",
              "          2.34126463e-03, -1.33365402e-02, -1.25717660e-02]],\n",
              "       shape=(10, 768)),\n",
              " 'documents': ['Virat Kohli is one of the most successful and consistent batsmen in IPL history. Known for his aggressive batting style and fitness, he has led the Royal Challengers Bangalore in multiple seasons.',\n",
              "  \"Rohit Sharma is the most successful captain in IPL history, leading Mumbai Indians to five titles. He's known for his calm demeanor and ability to play big innings under pressure.\",\n",
              "  'MS Dhoni, famously known as Captain Cool, has led Chennai Super Kings to multiple IPL titles. His finishing skills, wicketkeeping, and leadership are legendary.',\n",
              "  'Jasprit Bumrah is considered one of the best fast bowlers in T20 cricket. Playing for Mumbai Indians, he is known for his yorkers and death-over expertise.',\n",
              "  'Ravindra Jadeja is a dynamic all-rounder who contributes with both bat and ball. Representing Chennai Super Kings, his quick fielding and match-winning performances make him a key player.',\n",
              "  'Virat Kohli is one of the most successful and consistent batsmen in IPL history. Known for his aggressive batting style and fitness, he has led the Royal Challengers Bangalore in multiple seasons.',\n",
              "  \"Rohit Sharma is the most successful captain in IPL history, leading Mumbai Indians to five titles. He's known for his calm demeanor and ability to play big innings under pressure.\",\n",
              "  'MS Dhoni, famously known as Captain Cool, has led Chennai Super Kings to multiple IPL titles. His finishing skills, wicketkeeping, and leadership are legendary.',\n",
              "  'Jasprit Bumrah is considered one of the best fast bowlers in T20 cricket. Playing for Mumbai Indians, he is known for his yorkers and death-over expertise.',\n",
              "  'Ravindra Jadeja is a dynamic all-rounder who contributes with both bat and ball. Representing Chennai Super Kings, his quick fielding and match-winning performances make him a key player.'],\n",
              " 'uris': None,\n",
              " 'included': ['embeddings', 'documents', 'metadatas'],\n",
              " 'data': None,\n",
              " 'metadatas': [{'team': 'Royal Challengers Bangalore'},\n",
              "  {'team': 'Mumbai Indians'},\n",
              "  {'team': 'Chennai Super Kings'},\n",
              "  {'team': 'Mumbai Indians'},\n",
              "  {'team': 'Chennai Super Kings'},\n",
              "  {'team': 'Royal Challengers Bangalore'},\n",
              "  {'team': 'Mumbai Indians'},\n",
              "  {'team': 'Chennai Super Kings'},\n",
              "  {'team': 'Mumbai Indians'},\n",
              "  {'team': 'Chennai Super Kings'}]}"
            ]
          },
          "execution_count": 13,
          "metadata": {},
          "output_type": "execute_result"
        }
      ],
      "source": [
        "# view documents\n",
        "vector_store.get(include=['embeddings','documents', 'metadatas'])"
      ]
    },
    {
      "cell_type": "code",
      "execution_count": 14,
      "metadata": {
        "colab": {
          "base_uri": "https://localhost:8080/"
        },
        "id": "Hg--cFdi79CV",
        "outputId": "2a022ae3-8b7c-45e1-8ba2-d490e6aae5da"
      },
      "outputs": [
        {
          "name": "stdout",
          "output_type": "stream",
          "text": [
            "Exported to vector_store_data.csv\n"
          ]
        }
      ],
      "source": [
        "# import pandas as pd\n",
        "# from langchain_community.vectorstores import Chroma\n",
        "\n",
        "# # Load your vector store\n",
        "# vector_store = Chroma(\n",
        "#     persist_directory=\"Langchain_RAG/Langchain_vector_store/my_chroma_db\",\n",
        "#     collection_name=\"sample\"\n",
        "# )\n",
        "import pandas as pd\n",
        "collection = vector_store._collection\n",
        "\n",
        "# Fetch stored items\n",
        "items = collection.get()\n",
        "\n",
        "# Convert to DataFrame (ignoring embeddings because they're huge)\n",
        "df = pd.DataFrame({\n",
        "    \"id\": items[\"ids\"],\n",
        "    \"document\": items[\"documents\"],\n",
        "    \"metadata\": items[\"metadatas\"]\n",
        "})\n",
        "\n",
        "# Save to CSV\n",
        "df.to_csv(\"vector_store_data.csv\", index=False)\n",
        "\n",
        "print(\"Exported to vector_store_data.csv\")\n"
      ]
    },
    {
      "cell_type": "code",
      "execution_count": 15,
      "metadata": {
        "id": "e1ovKLOpW6hZ"
      },
      "outputs": [
        {
          "data": {
            "text/html": [
              "<div>\n",
              "<style scoped>\n",
              "    .dataframe tbody tr th:only-of-type {\n",
              "        vertical-align: middle;\n",
              "    }\n",
              "\n",
              "    .dataframe tbody tr th {\n",
              "        vertical-align: top;\n",
              "    }\n",
              "\n",
              "    .dataframe thead th {\n",
              "        text-align: right;\n",
              "    }\n",
              "</style>\n",
              "<table border=\"1\" class=\"dataframe\">\n",
              "  <thead>\n",
              "    <tr style=\"text-align: right;\">\n",
              "      <th></th>\n",
              "      <th>id</th>\n",
              "      <th>document</th>\n",
              "      <th>metadata</th>\n",
              "    </tr>\n",
              "  </thead>\n",
              "  <tbody>\n",
              "    <tr>\n",
              "      <th>0</th>\n",
              "      <td>4fed7118-cf62-4343-ac48-b753bf4acdb5</td>\n",
              "      <td>Virat Kohli is one of the most successful and ...</td>\n",
              "      <td>{'team': 'Royal Challengers Bangalore'}</td>\n",
              "    </tr>\n",
              "    <tr>\n",
              "      <th>1</th>\n",
              "      <td>dbc6223d-57d9-4795-abf8-f562d0e0384f</td>\n",
              "      <td>Rohit Sharma is the most successful captain in...</td>\n",
              "      <td>{'team': 'Mumbai Indians'}</td>\n",
              "    </tr>\n",
              "    <tr>\n",
              "      <th>2</th>\n",
              "      <td>396bc5ab-b35d-4384-8f61-120b0031c8e1</td>\n",
              "      <td>MS Dhoni, famously known as Captain Cool, has ...</td>\n",
              "      <td>{'team': 'Chennai Super Kings'}</td>\n",
              "    </tr>\n",
              "    <tr>\n",
              "      <th>3</th>\n",
              "      <td>64973916-ff37-4251-abfd-9db581d91059</td>\n",
              "      <td>Jasprit Bumrah is considered one of the best f...</td>\n",
              "      <td>{'team': 'Mumbai Indians'}</td>\n",
              "    </tr>\n",
              "    <tr>\n",
              "      <th>4</th>\n",
              "      <td>93a1b2c6-7acd-46ea-a370-29422ee1dcb1</td>\n",
              "      <td>Ravindra Jadeja is a dynamic all-rounder who c...</td>\n",
              "      <td>{'team': 'Chennai Super Kings'}</td>\n",
              "    </tr>\n",
              "    <tr>\n",
              "      <th>5</th>\n",
              "      <td>5b2683ec-45a0-40fe-b056-0d5b33ede732</td>\n",
              "      <td>Virat Kohli is one of the most successful and ...</td>\n",
              "      <td>{'team': 'Royal Challengers Bangalore'}</td>\n",
              "    </tr>\n",
              "    <tr>\n",
              "      <th>6</th>\n",
              "      <td>1f9475c6-2093-49d8-b2ca-d33a25dfbc07</td>\n",
              "      <td>Rohit Sharma is the most successful captain in...</td>\n",
              "      <td>{'team': 'Mumbai Indians'}</td>\n",
              "    </tr>\n",
              "    <tr>\n",
              "      <th>7</th>\n",
              "      <td>1aa28531-d979-4b7c-9f79-5529c941c22c</td>\n",
              "      <td>MS Dhoni, famously known as Captain Cool, has ...</td>\n",
              "      <td>{'team': 'Chennai Super Kings'}</td>\n",
              "    </tr>\n",
              "    <tr>\n",
              "      <th>8</th>\n",
              "      <td>fee7cd34-810a-46fa-90ae-b0dc87081158</td>\n",
              "      <td>Jasprit Bumrah is considered one of the best f...</td>\n",
              "      <td>{'team': 'Mumbai Indians'}</td>\n",
              "    </tr>\n",
              "    <tr>\n",
              "      <th>9</th>\n",
              "      <td>8bc7965e-e8ea-4b1b-a69b-9b0bb6763ad1</td>\n",
              "      <td>Ravindra Jadeja is a dynamic all-rounder who c...</td>\n",
              "      <td>{'team': 'Chennai Super Kings'}</td>\n",
              "    </tr>\n",
              "  </tbody>\n",
              "</table>\n",
              "</div>"
            ],
            "text/plain": [
              "                                     id  \\\n",
              "0  4fed7118-cf62-4343-ac48-b753bf4acdb5   \n",
              "1  dbc6223d-57d9-4795-abf8-f562d0e0384f   \n",
              "2  396bc5ab-b35d-4384-8f61-120b0031c8e1   \n",
              "3  64973916-ff37-4251-abfd-9db581d91059   \n",
              "4  93a1b2c6-7acd-46ea-a370-29422ee1dcb1   \n",
              "5  5b2683ec-45a0-40fe-b056-0d5b33ede732   \n",
              "6  1f9475c6-2093-49d8-b2ca-d33a25dfbc07   \n",
              "7  1aa28531-d979-4b7c-9f79-5529c941c22c   \n",
              "8  fee7cd34-810a-46fa-90ae-b0dc87081158   \n",
              "9  8bc7965e-e8ea-4b1b-a69b-9b0bb6763ad1   \n",
              "\n",
              "                                            document  \\\n",
              "0  Virat Kohli is one of the most successful and ...   \n",
              "1  Rohit Sharma is the most successful captain in...   \n",
              "2  MS Dhoni, famously known as Captain Cool, has ...   \n",
              "3  Jasprit Bumrah is considered one of the best f...   \n",
              "4  Ravindra Jadeja is a dynamic all-rounder who c...   \n",
              "5  Virat Kohli is one of the most successful and ...   \n",
              "6  Rohit Sharma is the most successful captain in...   \n",
              "7  MS Dhoni, famously known as Captain Cool, has ...   \n",
              "8  Jasprit Bumrah is considered one of the best f...   \n",
              "9  Ravindra Jadeja is a dynamic all-rounder who c...   \n",
              "\n",
              "                                  metadata  \n",
              "0  {'team': 'Royal Challengers Bangalore'}  \n",
              "1               {'team': 'Mumbai Indians'}  \n",
              "2          {'team': 'Chennai Super Kings'}  \n",
              "3               {'team': 'Mumbai Indians'}  \n",
              "4          {'team': 'Chennai Super Kings'}  \n",
              "5  {'team': 'Royal Challengers Bangalore'}  \n",
              "6               {'team': 'Mumbai Indians'}  \n",
              "7          {'team': 'Chennai Super Kings'}  \n",
              "8               {'team': 'Mumbai Indians'}  \n",
              "9          {'team': 'Chennai Super Kings'}  "
            ]
          },
          "execution_count": 15,
          "metadata": {},
          "output_type": "execute_result"
        }
      ],
      "source": [
        "df = pd.read_csv(\"vector_store_data.csv\")\n",
        "df.head(10)"
      ]
    },
    {
      "cell_type": "code",
      "execution_count": null,
      "metadata": {},
      "outputs": [],
      "source": []
    }
  ],
  "metadata": {
    "accelerator": "GPU",
    "colab": {
      "gpuType": "T4",
      "provenance": []
    },
    "kernelspec": {
      "display_name": "venv",
      "language": "python",
      "name": "python3"
    },
    "language_info": {
      "codemirror_mode": {
        "name": "ipython",
        "version": 3
      },
      "file_extension": ".py",
      "mimetype": "text/x-python",
      "name": "python",
      "nbconvert_exporter": "python",
      "pygments_lexer": "ipython3",
      "version": "3.10.0"
    }
  },
  "nbformat": 4,
  "nbformat_minor": 0
}
