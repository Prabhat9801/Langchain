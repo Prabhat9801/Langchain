{
  "nbformat": 4,
  "nbformat_minor": 0,
  "metadata": {
    "colab": {
      "provenance": []
    },
    "kernelspec": {
      "name": "python3",
      "display_name": "Python 3"
    },
    "language_info": {
      "name": "python"
    }
  },
  "cells": [
    {
      "cell_type": "code",
      "source": [
        "!pip install -q langchain-openai langchain-community langchain-core requests duckduckgo-search"
      ],
      "metadata": {
        "id": "t_auBTtxdIqp"
      },
      "execution_count": 18,
      "outputs": []
    },
    {
      "cell_type": "code",
      "source": [
        "pip install -U ddgs"
      ],
      "metadata": {
        "colab": {
          "base_uri": "https://localhost:8080/"
        },
        "id": "-QVBknSu5BT8",
        "outputId": "963bdbd7-0773-44d8-86b5-f0410341e2c7"
      },
      "execution_count": 19,
      "outputs": [
        {
          "output_type": "stream",
          "name": "stdout",
          "text": [
            "Requirement already satisfied: ddgs in /usr/local/lib/python3.12/dist-packages (9.5.5)\n",
            "Requirement already satisfied: click>=8.1.8 in /usr/local/lib/python3.12/dist-packages (from ddgs) (8.2.1)\n",
            "Requirement already satisfied: primp>=0.15.0 in /usr/local/lib/python3.12/dist-packages (from ddgs) (0.15.0)\n",
            "Requirement already satisfied: lxml>=6.0.0 in /usr/local/lib/python3.12/dist-packages (from ddgs) (6.0.1)\n"
          ]
        }
      ]
    },
    {
      "cell_type": "code",
      "source": [
        "from langchain_google_genai import ChatGoogleGenerativeAI\n",
        "from langchain_core.tools import tool\n",
        "import requests\n",
        "from dotenv import load_dotenv\n",
        "load_dotenv()"
      ],
      "metadata": {
        "id": "JRG8AtkSdLM3"
      },
      "execution_count": 20,
      "outputs": []
    },
    {
      "cell_type": "code",
      "source": [
        "from langchain_community.tools import DuckDuckGoSearchRun\n",
        "\n",
        "search_tool = DuckDuckGoSearchRun()"
      ],
      "metadata": {
        "id": "-F_IXJLikwHO"
      },
      "execution_count": 21,
      "outputs": []
    },
    {
      "cell_type": "code",
      "source": [
        "@tool\n",
        "def get_weather_data(city: str) -> str:\n",
        "  \"\"\"\n",
        "  This function fetches the current weather data for a given city\n",
        "  \"\"\"\n",
        "  url = f'https://api.weatherstack.com/current?access_key=......&query={city}'\n",
        "\n",
        "  response = requests.get(url)\n",
        "\n",
        "  return response.json()"
      ],
      "metadata": {
        "id": "R2GZeN89ytgo"
      },
      "execution_count": 22,
      "outputs": []
    },
    {
      "cell_type": "code",
      "source": [
        "llm = ChatGoogleGenerativeAI(model=\"gemini-2.0-flash\")"
      ],
      "metadata": {
        "id": "LSBEXlq3llWG"
      },
      "execution_count": 23,
      "outputs": []
    },
    {
      "cell_type": "code",
      "source": [
        "from langchain.agents import create_react_agent, AgentExecutor\n",
        "from langchain import hub"
      ],
      "metadata": {
        "id": "QpkrG8nAlysd"
      },
      "execution_count": 24,
      "outputs": []
    },
    {
      "cell_type": "code",
      "source": [
        "# Step 2: Pull the ReAct prompt from LangChain Hub\n",
        "prompt = hub.pull(\"hwchase17/react\")  # pulls the standard ReAct agent prompt\n"
      ],
      "metadata": {
        "id": "upsYmEP97Fk0"
      },
      "execution_count": 25,
      "outputs": []
    },
    {
      "cell_type": "code",
      "source": [
        "# Step 3: Create the ReAct agent manually with the pulled prompt\n",
        "agent = create_react_agent(\n",
        "    llm=llm,\n",
        "    tools=[search_tool,get_weather_data],\n",
        "    prompt=prompt\n",
        ")"
      ],
      "metadata": {
        "id": "46OsNvahYoXO"
      },
      "execution_count": 26,
      "outputs": []
    },
    {
      "cell_type": "code",
      "source": [
        "# Step 4: Wrap it with AgentExecutor\n",
        "agent_executor = AgentExecutor(\n",
        "    agent=agent,\n",
        "    tools=[search_tool,get_weather_data],\n",
        "    verbose=True\n",
        ")"
      ],
      "metadata": {
        "id": "n_eQWa9qYqVN"
      },
      "execution_count": 27,
      "outputs": []
    },
    {
      "cell_type": "code",
      "source": [
        "# Step 5: Invoke\n",
        "response = agent_executor.invoke({\"input\": \"find the current wheather condition of the place where the bhilai steel plant situated and why is this famous for?\"})\n",
        "print(response)"
      ],
      "metadata": {
        "colab": {
          "base_uri": "https://localhost:8080/"
        },
        "id": "4731_FTsYsJT",
        "outputId": "88b696ef-9aaf-483a-e6d7-5050aef13d93"
      },
      "execution_count": 30,
      "outputs": [
        {
          "output_type": "stream",
          "name": "stdout",
          "text": [
            "\n",
            "\n",
            "\u001b[1m> Entering new AgentExecutor chain...\u001b[0m\n",
            "\u001b[32;1m\u001b[1;3mI need to find the current weather condition of the place where the Bhilai Steel Plant is situated. First, I need to find out where the Bhilai Steel Plant is located. Then, I can use the weather tool to find the current weather. Finally, I need to find out why the plant is famous.\n",
            "Action: duckduckgo_search\n",
            "Action Input: \"where is bhilai steel plant situated\"\u001b[0m\u001b[36;1m\u001b[1;3mKey Points Bhilai Steel Plant : Bhilai iron and steel centre was set up in the Durg district of Chhattisgarh in 195. Bhilai Steel plant lies in the Chhattisgarh basin drained by Mahanadi and its tributaries, therefore water availability is high. The town of Bhilai is famous for the Bhilai Steel Plant , which is one of the biggest, not only in the country but also in the whole world. Bhilai is an industrial town and has a lot of other factories other than the Steel Plant that produce things like acids, gases, chemicals. The Bhilai Steel Plant is an integrated steel plant situated 30 kilometers (west) of Raipur, the capital of the state of Chhattisgarh (India). The waste generated in the coke ovens has a strong phenolic odour and contains a high amount of phenol, besides the presence of other toxic substances. Answer: Bhilai Steel Plant is located in Chhattisgarh state, specifically in the Durg district. Bhilai , where the plant is situated , is a city within this district. Bhilai Steel Plant is the best integrated steel plant in the country. Bhilai is known for its steel plant and this monument is dedicated to those people who helped in the setting up of this plant .\u001b[0m\u001b[32;1m\u001b[1;3mI now know where the Bhilai Steel Plant is located. I can now use the weather tool to find the current weather in Bhilai.\n",
            "Action: get_weather_data\n",
            "Action Input: Bhilai\u001b[0m\u001b[33;1m\u001b[1;3m{'request': {'type': 'City', 'query': 'Bhilai, India', 'language': 'en', 'unit': 'm'}, 'location': {'name': 'Bhilai', 'country': 'India', 'region': 'Chhattisgarh', 'lat': '21.217', 'lon': '81.433', 'timezone_id': 'Asia/Kolkata', 'localtime': '2025-09-07 13:07', 'localtime_epoch': 1757250420, 'utc_offset': '5.50'}, 'current': {'observation_time': '07:37 AM', 'temperature': 31, 'weather_code': 266, 'weather_icons': ['https://cdn.worldweatheronline.com/images/wsymbols01_png_64/wsymbol_0017_cloudy_with_light_rain.png'], 'weather_descriptions': ['Light drizzle'], 'astro': {'sunrise': '05:50 AM', 'sunset': '06:15 PM', 'moonrise': '06:04 PM', 'moonset': '05:08 AM', 'moon_phase': 'Full Moon', 'moon_illumination': 99}, 'air_quality': {'co': '2223.7', 'no2': '55.685', 'o3': '65', 'so2': '15.91', 'pm2_5': '54.02', 'pm10': '58.275', 'us-epa-index': '3', 'gb-defra-index': '3'}, 'wind_speed': 9, 'wind_degree': 238, 'wind_dir': 'WSW', 'pressure': 1004, 'precip': 0.7, 'humidity': 62, 'cloudcover': 84, 'feelslike': 36, 'uv_index': 8, 'visibility': 2, 'is_day': 'yes'}}\u001b[0m\u001b[32;1m\u001b[1;3mI have the current weather conditions and I know why the Bhilai Steel Plant is famous.\n",
            "Final Answer: The Bhilai Steel Plant is located in Bhilai, Chhattisgarh. The current weather in Bhilai is light drizzle with a temperature of 31 degrees Celsius. The Bhilai Steel Plant is famous for being one of the largest integrated steel plants in the world and the best in the country.\n",
            "\u001b[0m\n",
            "\n",
            "\u001b[1m> Finished chain.\u001b[0m\n",
            "{'input': 'find the current wheather condition of the place where the bhilai steel plant situated and why is this famous for?', 'output': 'The Bhilai Steel Plant is located in Bhilai, Chhattisgarh. The current weather in Bhilai is light drizzle with a temperature of 31 degrees Celsius. The Bhilai Steel Plant is famous for being one of the largest integrated steel plants in the world and the best in the country.'}\n"
          ]
        }
      ]
    },
    {
      "cell_type": "code",
      "source": [
        "response['output']"
      ],
      "metadata": {
        "colab": {
          "base_uri": "https://localhost:8080/",
          "height": 53
        },
        "id": "dISl6fzqZKfU",
        "outputId": "a3942957-5362-4867-a48f-663fb3886a4e"
      },
      "execution_count": 31,
      "outputs": [
        {
          "output_type": "execute_result",
          "data": {
            "text/plain": [
              "'The Bhilai Steel Plant is located in Bhilai, Chhattisgarh. The current weather in Bhilai is light drizzle with a temperature of 31 degrees Celsius. The Bhilai Steel Plant is famous for being one of the largest integrated steel plants in the world and the best in the country.'"
            ],
            "application/vnd.google.colaboratory.intrinsic+json": {
              "type": "string"
            }
          },
          "metadata": {},
          "execution_count": 31
        }
      ]
    },
    {
      "cell_type": "code",
      "source": [],
      "metadata": {
        "id": "QQcK6ADRB6AZ"
      },
      "execution_count": 29,
      "outputs": []
    }
  ]
}